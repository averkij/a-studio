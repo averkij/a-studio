{
 "cells": [
  {
   "cell_type": "markdown",
   "id": "09dfb92c-1101-4199-9ae7-1661f67121c8",
   "metadata": {},
   "source": [
    "## Finetune LaBSE model with your parallel corpora\n",
    "\n",
    "tg: @lingtrain_chat\n",
    "\n",
    "In this notebook we will finetune LaBSE model on our corpora. "
   ]
  },
  {
   "cell_type": "code",
   "execution_count": null,
   "id": "f5a503af-07eb-4201-9006-da1979f6f1e6",
   "metadata": {},
   "outputs": [],
   "source": [
    "# !pip install seaborn more_itertools lingtrain-aligner==0.9.4 dateparser sentence_transformers sentencepiece transformers razdel datasets"
   ]
  },
  {
   "cell_type": "code",
   "execution_count": null,
   "id": "7191d729-423b-4153-8ff8-0aa8c544ac3b",
   "metadata": {},
   "outputs": [],
   "source": [
    "# !mkdir mari\n",
    "\n",
    "#copy example files from\n",
    "#https://github.com/averkij/a-studio/tree/main/tools/labse_finetune_and_extract/mari "
   ]
  },
  {
   "cell_type": "code",
   "execution_count": 1,
   "id": "1b4daf3d-73c6-4ae2-a7a4-8ba6473f5c18",
   "metadata": {},
   "outputs": [],
   "source": [
    "import matplotlib.pyplot as plt\n",
    "import seaborn as sns\n",
    "from IPython.display import clear_output\n",
    "import time\n",
    "from sentence_transformers import SentenceTransformer, SentencesDataset, LoggingHandler, losses\n",
    "from sentence_transformers.readers import InputExample\n",
    "from sentence_transformers.evaluation import SentenceEvaluator\n",
    "from torch.utils.data import DataLoader\n",
    "from datetime import datetime\n",
    "from transformers import AdamW, AutoTokenizer, AutoModel, get_linear_schedule_with_warmup\n",
    "from tqdm import tqdm\n",
    "import os\n",
    "import logging\n",
    "from warnings import simplefilter\n",
    "import sys\n",
    "from datasets import load_dataset \n",
    "\n",
    "from lingtrain_aligner import preprocessor, splitter, aligner, resolver, reader, helper, vis_helper, metrics\n",
    "\n",
    "sns.set_theme(style=\"darkgrid\")"
   ]
  },
  {
   "cell_type": "code",
   "execution_count": 25,
   "id": "6a4a4d9f-1701-4d7c-a300-b60891539d21",
   "metadata": {},
   "outputs": [],
   "source": [
    "#configure logging\n",
    "for handler in logging.root.handlers[:]:\n",
    "    logging.root.removeHandler(handler)\n",
    "\n",
    "os.environ[\"TF_CPP_MIN_LOG_LEVEL\"] = \"3\"\n",
    "simplefilter(action=\"ignore\", category=FutureWarning)\n",
    "logging.basicConfig(\n",
    "    level=logging.INFO,\n",
    "    format=\"%(asctime)s [%(levelname)s] - %(process)d: %(message)s\",\n",
    "    datefmt=\"%d-%b-%y %H:%M:%S\",\n",
    "    handlers=[\n",
    "        logging.StreamHandler(sys.stdout),\n",
    "        logging.FileHandler(\"_labse.log\", mode=\"a\"),\n",
    "    ],\n",
    ")\n",
    "logging.getLogger(\"matplotlib.font_manager\").disabled = True\n",
    "logger = logging.getLogger(__name__)\n"
   ]
  },
  {
   "cell_type": "code",
   "execution_count": 26,
   "id": "7e07ea46-1729-493a-9ad0-acfbd7c2daa5",
   "metadata": {},
   "outputs": [],
   "source": [
    "def flatten(arr):\n",
    "    return [x for xs in arr for x in xs]\n",
    "\n",
    "class ChainScoreEvaluator(SentenceEvaluator):\n",
    "    \"\"\"Evaluate a lingtrain chain score. This score calculates coefficient of unbrokenness.\"\"\"\n",
    "    def __init__(self, db_path, lang_from, lang_to, text1, text2, model, scores_1=[], scores_2=[], evaluation_steps=100):\n",
    "        self.db_path = db_path\n",
    "        self.lang_from = lang_from\n",
    "        self.lang_to = lang_to\n",
    "        self.text1 = text1\n",
    "        self.text2 = text2\n",
    "        self.scores_1 = scores_1\n",
    "        self.scores_2 = scores_2\n",
    "        self.best_score = 0.0\n",
    "        self.model = model\n",
    "  \n",
    "    def __call__(self, model, output_path: str = None, epoch: int = -1, steps: int = -1) -> float:\n",
    "        clear_output(wait=True)\n",
    "        \n",
    "        text1_prepared = preprocessor.mark_paragraphs(text1)\n",
    "        text2_prepared = preprocessor.mark_paragraphs(text2)\n",
    "\n",
    "        if self.lang_from=='san':\n",
    "            splitted_from = flatten([x.split('.') for x in text1_prepared])\n",
    "            splitted_from = [x.strip() + '.' for x in splitted_from]\n",
    "        else:\n",
    "            splitted_from = splitter.split_by_sentences_wrapper(text1_prepared, self.lang_from)\n",
    "        splitted_to = splitter.split_by_sentences_wrapper(text2_prepared, self.lang_to)\n",
    "\n",
    "        logger.info(f'Splitted length: {self.lang_from} — {len(splitted_from)}, {self.lang_to} — {len(splitted_to)}')\n",
    "  \n",
    "        if os.path.isfile(db_path):\n",
    "          os.unlink(db_path)\n",
    "        aligner.fill_db(db_path, self.lang_from, self.lang_to, splitted_from, splitted_to)\n",
    "        \n",
    "        start_time = time.time()\n",
    "  \n",
    "        batch_ids = range(0,1)\n",
    "        aligner.align_db(db_path,\n",
    "                        model_name='_',\n",
    "                        batch_size=500,\n",
    "                        window=50,             #tweak this parameter if needed\n",
    "                        batch_ids=batch_ids,\n",
    "                        save_pic=False,\n",
    "                        embed_batch_size=100,\n",
    "                        normalize_embeddings=True,\n",
    "                        show_progress_bar=False,\n",
    "                        shift=0,              #tweak this parameter if needed\n",
    "                        model=self.model\n",
    "                        )\n",
    "\n",
    "        conflicts, rest = resolver.get_all_conflicts(db_path, min_chain_length=2, max_conflicts_len=6, batch_id=-1)\n",
    "        logger.info(f'Resolving short conflicts for proper validation: {len(conflicts)} conflicts detected (min chains len are from 2 to 6).')\n",
    "        resolver.resolve_all_conflicts(db_path, conflicts, model_name=\"_\", show_logs=False, model=self.model)\n",
    "        score_1 = metrics.chain_score(db_path)\n",
    "        score_2 = metrics.chain_score(db_path, mode='both')\n",
    "        logger.info(f\"Epoch: {epoch} steps: {steps}.\")\n",
    "        \n",
    "        if score_1 > self.best_score:\n",
    "            self.best_score = score_1\n",
    "            logger.info(f\"Score 1: {score_1} new best score (#1).\")\n",
    "            if self.best_score > 0.06:\n",
    "                logger.info(\"Saving the model...\")\n",
    "                model.save(f'output/best_model_{LANG_1}_{LANG_2}')\n",
    "                logger.info(f\"Model saved to output/best_model_{LANG_1}_{LANG_2}.\")\n",
    "        else:\n",
    "            logger.info(f\"score 1: {score_1}\")\n",
    "  \n",
    "        logger.info(f\"score 2: {score_2}\")\n",
    "        self.scores_1.append(score_1)\n",
    "        self.scores_2.append(score_2)\n",
    "  \n",
    "        vis_helper.visualize_alignment_by_db(db_path,\n",
    "                output_path=\"./img_alignment/alignment_vis_mari.png\",\n",
    "                batch_size=400,\n",
    "                size=(600,600),\n",
    "                lang_name_from=self.lang_from,\n",
    "                lang_name_to=self.lang_to,\n",
    "                plt_show=True)\n",
    "\n",
    "        # fig, ax=plt.subplots(1,2, figsize=(18, 5))\n",
    "        \n",
    "        if steps % evaluation_steps==0:\n",
    "            sns.lineplot(data=self.scores_1)\n",
    "\n",
    "        # if steps % evaluation_steps==0:\n",
    "        #     sns.lineplot(data=self.scores_2, ax=ax[1])\n",
    "  \n",
    "        return score_1"
   ]
  },
  {
   "cell_type": "markdown",
   "id": "e5af8b5a-13dd-401a-9265-92742d38cbd9",
   "metadata": {},
   "source": [
    "### Prepare dataset"
   ]
  },
  {
   "cell_type": "code",
   "execution_count": 27,
   "id": "824f1f7e-2ddd-491a-8057-0f6d861edd84",
   "metadata": {},
   "outputs": [],
   "source": [
    "#lang codes in our experiment\n",
    "LANG_1 = 'mhr'\n",
    "LANG_2 = 'ru'\n",
    "\n",
    "#columns in dataset\n",
    "DATASET_LANG_1 = 'mhr'\n",
    "DATASET_LANG_2 = 'rus'\n",
    "\n",
    "ds = load_dataset('AigizK/mari-russian-parallel-corpora', split='train')\n",
    "\n",
    "def prepare_dataset(ds, feature_1, feature_2):\n",
    "    res = []\n",
    "    for item in ds:\n",
    "        res.append({LANG_1:item[feature_1], LANG_2:item[feature_2]})\n",
    "    return res\n",
    "        \n",
    "train_dataset_orig = prepare_dataset(ds, feature_1=DATASET_LANG_1, feature_2=DATASET_LANG_2)"
   ]
  },
  {
   "cell_type": "code",
   "execution_count": 17,
   "id": "d932248e-e64e-4517-b7f4-310236cff6e2",
   "metadata": {},
   "outputs": [
    {
     "data": {
      "text/plain": [
       "{'mhr': 'Мардеж толашыме годым мыйын вуйышкем икте почеш весе, неле шонымаш-шамыч толын пурат.',\n",
       " 'ru': 'В голове, под шум бури, поднимались и летели одна за другой тяжелые мысли.'}"
      ]
     },
     "execution_count": 17,
     "metadata": {},
     "output_type": "execute_result"
    }
   ],
   "source": [
    "train_dataset_orig[111]"
   ]
  },
  {
   "cell_type": "markdown",
   "id": "c5d6f065-83e6-4786-b5a8-e92d048924b0",
   "metadata": {},
   "source": [
    "### Load original model"
   ]
  },
  {
   "cell_type": "code",
   "execution_count": 18,
   "id": "cea76a02-3d82-4312-948a-d70885a7688c",
   "metadata": {},
   "outputs": [
    {
     "name": "stdout",
     "output_type": "stream",
     "text": [
      "05-Feb-24 17:18:38 [INFO] - 23990: Load pretrained SentenceTransformer: LaBSE\n",
      "05-Feb-24 17:18:40 [INFO] - 23990: Use pytorch device: cuda\n"
     ]
    }
   ],
   "source": [
    "model = SentenceTransformer('LaBSE')"
   ]
  },
  {
   "cell_type": "markdown",
   "id": "49d830be-6794-47a0-8093-ecfa1060504f",
   "metadata": {},
   "source": [
    "### Prepare tests and finetune the model"
   ]
  },
  {
   "cell_type": "markdown",
   "id": "ed72d1e1-5a66-45b0-b7f9-dadb936a1cde",
   "metadata": {},
   "source": [
    "Texts should be clean and equal in terms of sense."
   ]
  },
  {
   "cell_type": "code",
   "execution_count": 28,
   "id": "c5d6038a-854d-457a-8299-02f74d5aa436",
   "metadata": {},
   "outputs": [],
   "source": [
    "# scores = []\n",
    "db_path = f\"alignment_{LANG_1}.db\"\n",
    "evaluation_steps = 100\n",
    "\n",
    "text1_input = \"mari/artamonov_mhr.txt\"\n",
    "text2_input = \"mari/artamonov_ru.txt\"\n",
    "\n",
    "with open(text1_input, \"r\", encoding=\"utf8\") as input1:\n",
    "    text1 = input1.readlines()\n",
    "with open(text2_input, \"r\", encoding=\"utf8\") as input2:\n",
    "    text2 = input2.readlines()\n",
    "    \n",
    "evaluator = ChainScoreEvaluator(db_path, LANG_1, LANG_2, text1, text2, model=model, evaluation_steps=evaluation_steps)"
   ]
  },
  {
   "cell_type": "code",
   "execution_count": 30,
   "id": "c0f631ac-a528-4dff-8218-ce06733ee1ef",
   "metadata": {},
   "outputs": [],
   "source": [
    "num_epochs = 1\n",
    "train_batch_size = 8\n",
    "warmup_steps = 1000\n",
    "\n",
    "train_examples = [InputExample(texts=[x[LANG_1], x[LANG_2]], label=1.0) for x in train_dataset_orig]\n",
    "train_dataset = SentencesDataset(train_examples, model)\n",
    "train_dataloader = DataLoader(train_dataset, shuffle=True, batch_size=train_batch_size)\n",
    "train_loss = losses.MultipleNegativesRankingLoss(model=model)"
   ]
  },
  {
   "cell_type": "code",
   "execution_count": 31,
   "id": "cbf44d0c-08e7-4db3-9c60-3e4a3c2ab630",
   "metadata": {},
   "outputs": [
    {
     "name": "stdout",
     "output_type": "stream",
     "text": [
      "07-Feb-24 14:16:21 [INFO] - 23990: Splitted length: mhr — 627, ru — 425\n",
      "07-Feb-24 14:16:21 [INFO] - 23990: Initializing database alignment_mhr.db\n",
      "Aligning without segments.\n",
      "tasks amount: 1\n",
      "batch: 0 (0)\n",
      "07-Feb-24 14:16:22 [INFO] - 23990: Batch 0. Calculating vectors.\n",
      "07-Feb-24 14:16:23 [WARNING] - 23990: can not fetch index db\n",
      "get_all_conflicts, handle_start: False handle_finish: False batch_id -1\n",
      "conflicts to solve: 32\n",
      "total conflicts: 58\n",
      "07-Feb-24 14:16:23 [INFO] - 23990: Resolving short conflicts for proper validation: 32 conflicts detected (min chains len are from 2 to 6).\n"
     ]
    },
    {
     "name": "stderr",
     "output_type": "stream",
     "text": [
      "\n",
      "  0%|          | 0/32 [00:00<?, ?it/s]\u001b[A\n",
      "  6%|▋         | 2/32 [00:00<00:01, 16.79it/s]\u001b[A\n",
      " 12%|█▎        | 4/32 [00:00<00:01, 16.77it/s]\u001b[A\n",
      " 19%|█▉        | 6/32 [00:00<00:01, 15.69it/s]\u001b[A\n",
      " 25%|██▌       | 8/32 [00:00<00:01, 16.98it/s]\u001b[A\n",
      " 31%|███▏      | 10/32 [00:00<00:01, 17.92it/s]\u001b[A\n",
      " 38%|███▊      | 12/32 [00:00<00:01, 18.50it/s]\u001b[A\n",
      " 44%|████▍     | 14/32 [00:00<00:01, 17.67it/s]\u001b[A\n",
      " 53%|█████▎    | 17/32 [00:00<00:00, 19.00it/s]\u001b[A\n",
      " 59%|█████▉    | 19/32 [00:01<00:00, 18.37it/s]\u001b[A\n",
      " 66%|██████▌   | 21/32 [00:01<00:00, 18.67it/s]\u001b[A\n",
      " 75%|███████▌  | 24/32 [00:01<00:00, 18.35it/s]\u001b[A\n",
      " 81%|████████▏ | 26/32 [00:01<00:00, 17.99it/s]\u001b[A\n",
      " 88%|████████▊ | 28/32 [00:01<00:00, 17.77it/s]\u001b[A\n",
      "100%|██████████| 32/32 [00:01<00:00, 18.14it/s]\u001b[A\n"
     ]
    },
    {
     "name": "stdout",
     "output_type": "stream",
     "text": [
      "07-Feb-24 14:16:25 [INFO] - 23990: Epoch: 0 steps: -1.\n",
      "07-Feb-24 14:16:25 [INFO] - 23990: Score 1: 0.384133611691023 new best score (#1).\n",
      "07-Feb-24 14:16:25 [INFO] - 23990: Saving the model...\n",
      "07-Feb-24 14:16:25 [INFO] - 23990: Save model to output/best_model_mhr_ru_3\n",
      "07-Feb-24 14:16:29 [INFO] - 23990: Model saved to output/best_model_mhr_ru_3.\n",
      "07-Feb-24 14:16:29 [INFO] - 23990: score 2: 0.6986721144024515\n"
     ]
    },
    {
     "data": {
      "image/png": "[encoded data removed]",
      "text/plain": [
       "<Figure size 600x600 with 1 Axes>"
      ]
     },
     "metadata": {},
     "output_type": "display_data"
    },
    {
     "data": {
      "image/png": "[encoded data removed]",
      "text/plain": [
       "<Figure size 600x600 with 1 Axes>"
      ]
     },
     "metadata": {},
     "output_type": "display_data"
    }
   ],
   "source": [
    "model.fit(train_objectives=[(train_dataloader, train_loss)],\n",
    "          evaluator=evaluator,\n",
    "          epochs=num_epochs,\n",
    "          evaluation_steps=evaluation_steps,\n",
    "          save_best_model=False,\n",
    "          use_amp=True,\n",
    "          warmup_steps=warmup_steps,\n",
    "          scheduler = 'warmupcosine',\n",
    "          optimizer_params = {'lr': 2e-5}, # default 2e-5   #3e-4\n",
    "          )"
   ]
  },
  {
   "cell_type": "markdown",
   "id": "e2c5e56a-c604-49d7-9d47-6b683b10c2b1",
   "metadata": {},
   "source": [
    "## Upload finetuned model to HF"
   ]
  },
  {
   "cell_type": "code",
   "execution_count": 14,
   "id": "44d63244-7403-4fa9-9941-44cc55d5ef41",
   "metadata": {},
   "outputs": [
    {
     "data": {
      "application/vnd.jupyter.widget-view+json": {
       "model_id": "055acd5dbdfc49d6a1bee4342432e91f",
       "version_major": 2,
       "version_minor": 0
      },
      "text/plain": [
       "pytorch_model.bin:   0%|          | 0.00/2.36M [00:00<?, ?B/s]"
      ]
     },
     "metadata": {},
     "output_type": "display_data"
    },
    {
     "data": {
      "application/vnd.jupyter.widget-view+json": {
       "model_id": "4afcd54663024482ac2f393ae577a0c2",
       "version_major": 2,
       "version_minor": 0
      },
      "text/plain": [
       "model.safetensors:   0%|          | 0.00/1.88G [00:00<?, ?B/s]"
      ]
     },
     "metadata": {},
     "output_type": "display_data"
    },
    {
     "data": {
      "application/vnd.jupyter.widget-view+json": {
       "model_id": "ded475e3e2064efc91e0f073d6aa4376",
       "version_major": 2,
       "version_minor": 0
      },
      "text/plain": [
       "Upload 2 LFS files:   0%|          | 0/2 [00:00<?, ?it/s]"
      ]
     },
     "metadata": {},
     "output_type": "display_data"
    },
    {
     "data": {
      "text/plain": [
       "CommitInfo(commit_url='https://huggingface.co/lingtrain/labse-mari/commit/f9715ea770b3376987c38562050a4399e3757179', commit_message='Upload folder using huggingface_hub', commit_description='', oid='f9715ea770b3376987c38562050a4399e3757179', pr_url=None, pr_revision=None, pr_num=None)"
      ]
     },
     "execution_count": 14,
     "metadata": {},
     "output_type": "execute_result"
    }
   ],
   "source": [
    "from huggingface_hub import HfApi\n",
    "\n",
    "# https://huggingface.co/settings/tokens\n",
    "api = HfApi(token=\"your_hf_token\")\n",
    "\n",
    "api.create_repo(\n",
    "    repo_id=\"lingtrain/labse-mari\",\n",
    "    repo_type='model',\n",
    "    exist_ok=True\n",
    ")\n",
    "\n",
    "api.upload_folder(\n",
    "    repo_id=\"lingtrain/labse-mari\",\n",
    "    folder_path=\"./output/best_model_mhr_ru\",\n",
    "    repo_type=\"model\",\n",
    ")"
   ]
  },
  {
   "cell_type": "markdown",
   "id": "35146743-acbf-4c3e-b5ba-0728302562dc",
   "metadata": {},
   "source": [
    "## Load model from HF"
   ]
  },
  {
   "cell_type": "code",
   "execution_count": 32,
   "id": "eb517c37-5570-4dc7-9ef4-8f5f6f0064b0",
   "metadata": {},
   "outputs": [
    {
     "name": "stdout",
     "output_type": "stream",
     "text": [
      "07-Feb-24 14:18:00 [INFO] - 23990: Load pretrained SentenceTransformer: lingtrain/labse-mari\n",
      "07-Feb-24 14:18:01 [INFO] - 23990: Use pytorch device: cuda\n"
     ]
    }
   ],
   "source": [
    "from sentence_transformers import SentenceTransformer\n",
    "\n",
    "model = SentenceTransformer('lingtrain/labse-mari')"
   ]
  },
  {
   "cell_type": "code",
   "execution_count": null,
   "id": "01d9c8c0-26fb-4c27-9d59-8386e063ee31",
   "metadata": {},
   "outputs": [],
   "source": []
  },
  {
   "cell_type": "code",
   "execution_count": null,
   "id": "29900c6a-35da-4baa-9070-bbb62242a3d3",
   "metadata": {},
   "outputs": [],
   "source": []
  }
 ],
 "metadata": {
  "kernelspec": {
   "display_name": "Python 3 (ipykernel)",
   "language": "python",
   "name": "python3"
  },
  "language_info": {
   "codemirror_mode": {
    "name": "ipython",
    "version": 3
   },
   "file_extension": ".py",
   "mimetype": "text/x-python",
   "name": "python",
   "nbconvert_exporter": "python",
   "pygments_lexer": "ipython3",
   "version": "3.9.18"
  }
 },
 "nbformat": 4,
 "nbformat_minor": 5
}
